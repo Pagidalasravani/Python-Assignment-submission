{
 "cells": [
  {
   "cell_type": "markdown",
   "metadata": {},
   "source": [
    "# Question 1"
   ]
  },
  {
   "cell_type": "markdown",
   "metadata": {},
   "source": [
    "# Use IF ELSE and ELIF to write a program in python for your report card"
   ]
  },
  {
   "cell_type": "code",
   "execution_count": 8,
   "metadata": {},
   "outputs": [
    {
     "name": "stdout",
     "output_type": "stream",
     "text": [
      "Enter marks of the first language: 90\n",
      "Enter marks of the second language: 85\n",
      "Enter marks of the maths language: 92\n",
      "Enter marks of the science language: 77\n",
      "Enter marks of the Social language: 98\n",
      "Grade: B\n"
     ]
    }
   ],
   "source": [
    "sub1= int(input(\"Enter marks of the first language: \"))\n",
    "sub2= int(input(\"Enter marks of the second language: \"))\n",
    "sub3= int(input(\"Enter marks of the maths language: \"))\n",
    "sub4= int(input(\"Enter marks of the science language: \"))\n",
    "sub5= int(input(\"Enter marks of the Social language: \"))\n",
    "avg= (sub1+sub2+sub3+sub4+sub5)/5\n",
    "if(avg>=90):\n",
    "   print(\"Grade: A\")\n",
    "elif(avg>=80):\n",
    "   print(\"Grade: B\")\n",
    "elif(avg>=70):\n",
    "   print(\"Grade: C\")\n",
    "elif(avg>=60):\n",
    "   print(\"Grade: D\")\n",
    "else:\n",
    "   print(\"Grade: F\")"
   ]
  },
  {
   "cell_type": "code",
   "execution_count": null,
   "metadata": {},
   "outputs": [],
   "source": []
  }
 ],
 "metadata": {
  "kernelspec": {
   "display_name": "Python 3",
   "language": "python",
   "name": "python3"
  },
  "language_info": {
   "codemirror_mode": {
    "name": "ipython",
    "version": 3
   },
   "file_extension": ".py",
   "mimetype": "text/x-python",
   "name": "python",
   "nbconvert_exporter": "python",
   "pygments_lexer": "ipython3",
   "version": "3.8.5"
  }
 },
 "nbformat": 4,
 "nbformat_minor": 4
}
